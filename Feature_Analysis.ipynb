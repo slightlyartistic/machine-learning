{
  "nbformat": 4,
  "nbformat_minor": 0,
  "metadata": {
    "colab": {
      "provenance": [],
      "authorship_tag": "ABX9TyN9zcsailmqPM/rtgHTQ+a8",
      "include_colab_link": true
    },
    "kernelspec": {
      "name": "python3",
      "display_name": "Python 3"
    },
    "language_info": {
      "name": "python"
    }
  },
  "cells": [
    {
      "cell_type": "markdown",
      "metadata": {
        "id": "view-in-github",
        "colab_type": "text"
      },
      "source": [
        "<a href=\"https://colab.research.google.com/github/slightlyartistic/machine-learning/blob/main/Feature_Analysis.ipynb\" target=\"_parent\"><img src=\"https://colab.research.google.com/assets/colab-badge.svg\" alt=\"Open In Colab\"/></a>"
      ]
    },
    {
      "cell_type": "code",
      "execution_count": null,
      "metadata": {
        "id": "ag9RBw1vl1yV"
      },
      "outputs": [],
      "source": [
        "# Work was done by myself for a machine learning assignment in grad school\n",
        "\n",
        "# Evaluate using Cross Validation\n",
        "from pandas import read_csv\n",
        "from sklearn.model_selection import RepeatedKFold\n",
        "from sklearn.model_selection import KFold\n",
        "from sklearn.model_selection import cross_val_score\n",
        "from sklearn.discriminant_analysis import LinearDiscriminantAnalysis \n",
        "from sklearn.linear_model import LogisticRegression\n",
        "from sklearn.neighbors import KNeighborsClassifier\n",
        "from sklearn.naive_bayes import GaussianNB\n",
        "from sklearn.svm import SVR\n",
        "\n",
        "\n",
        "# read and load the csv data file\n",
        "filename = \"myClassDataSet2.csv\"\n",
        "data = read_csv(filename)\n",
        "\n",
        "# Assign array of data values\n",
        "array = data.values\n",
        "\n",
        "# Separate array into input and output values\n",
        "x = array[:,0:10]\n",
        "y = array[:,10]"
      ]
    },
    {
      "cell_type": "code",
      "source": [
        "# Define logistic regression model\n",
        "logreg = LogisticRegression(solver='liblinear')\n",
        "\n",
        "# Define cross-validation method\n",
        "repkfold = RepeatedKFold(n_splits=10, n_repeats=3, random_state=4)\n",
        "\n",
        "# Evaluate model using cross-validation\n",
        "scores = cross_val_score(logreg, x, y, scoring='accuracy', cv=repkfold)\n",
        "\n",
        "# Define mean classification accuracy\n",
        "mca = scores.mean()\n",
        "\n",
        "# Print mean classification accuracy\n",
        "print('Mean Classification Accuracy:', mca)"
      ],
      "metadata": {
        "colab": {
          "base_uri": "https://localhost:8080/"
        },
        "id": "MFYtzuoHm2pZ",
        "outputId": "fa9783ae-681a-48ef-d28b-771d61197d01"
      },
      "execution_count": null,
      "outputs": [
        {
          "output_type": "stream",
          "name": "stdout",
          "text": [
            "Mean Classification Accuracy: 0.9409666666666666\n"
          ]
        }
      ]
    },
    {
      "cell_type": "code",
      "source": [
        "# Evaluate the model using cross-validation\n",
        "accuracy_scores = cross_val_score(logreg, x, y, cv=repkfold, scoring='accuracy')\n",
        "neg_log_loss_scores = cross_val_score(logreg, x, y, cv=repkfold, scoring='neg_log_loss')\n",
        "roc_auc_scores = cross_val_score(logreg, x, y, cv=repkfold, scoring='roc_auc')\n",
        "\n",
        "# Print the mean scores for each metric\n",
        "print('Mean Accuracy:', accuracy_scores.mean())\n",
        "print('Mean Neg Log Loss:', neg_log_loss_scores.mean())\n",
        "print('Mean ROC AUC:', roc_auc_scores.mean())"
      ],
      "metadata": {
        "colab": {
          "base_uri": "https://localhost:8080/"
        },
        "id": "EMCQ-IOSrdN1",
        "outputId": "c8b8a696-e699-450b-cb76-703811b5f070"
      },
      "execution_count": null,
      "outputs": [
        {
          "output_type": "stream",
          "name": "stdout",
          "text": [
            "Mean Accuracy: 0.9409666666666666\n",
            "Mean Neg Log Loss: -0.196599171824069\n",
            "Mean ROC AUC: 0.9675697584439447\n"
          ]
        }
      ]
    },
    {
      "cell_type": "code",
      "source": [
        "# Define models\n",
        "lda = LinearDiscriminantAnalysis()\n",
        "knn = KNeighborsClassifier()\n",
        "gnb = GaussianNB()\n",
        "svr = SVR()\n",
        "\n",
        "# Define kfold cross-validation method\n",
        "kfold = KFold(n_splits=10, shuffle=True, random_state=4)\n",
        "\n",
        "logreg_scores = cross_val_score(logreg, x, y, cv=kfold)\n",
        "lda_scores = cross_val_score(lda, x, y, cv=kfold)\n",
        "knn_scores = cross_val_score(knn, x, y, cv=kfold)\n",
        "gnb_scores = cross_val_score(gnb, x, y, cv=kfold)\n",
        "svr_scores = cross_val_score(svr, x, y, cv=kfold)\n",
        "\n",
        "\n",
        "print('LogReg Mean Score:', logreg_scores.mean())\n",
        "print('LDA Mean Score:', lda_scores.mean())\n",
        "print('KNN Mean Score:', knn_scores.mean())\n",
        "print('GaussianNB Mean Score:', gnb_scores.mean())\n",
        "print('SVR Mean Score:', svr_scores.mean())"
      ],
      "metadata": {
        "colab": {
          "base_uri": "https://localhost:8080/"
        },
        "id": "Okcn1lC526EH",
        "outputId": "5883fff4-727e-4a2f-d980-1cf7e871fc41"
      },
      "execution_count": null,
      "outputs": [
        {
          "output_type": "stream",
          "name": "stdout",
          "text": [
            "LogReg Mean Score: 0.9409000000000001\n",
            "LDA Mean Score: 0.9318000000000002\n",
            "KNN Mean Score: 0.9353\n",
            "GaussianNB Mean Score: 0.9418\n",
            "SVR Mean Score: 0.7879733346813542\n"
          ]
        }
      ]
    },
    {
      "cell_type": "code",
      "source": [
        "# Import plotting library\n",
        "import matplotlib.pyplot as plt\n",
        "\n",
        "# Create a list of scores for each model\n",
        "model_scores = [logreg_scores, lda_scores, knn_scores, gnb_scores, svr_scores]\n",
        "\n",
        "# Create a box plot of the scores for each model\n",
        "fig, ax = plt.subplots()\n",
        "ax.boxplot(model_scores)\n",
        "ax.set_xticklabels(['LogReg', 'LDA', 'KNN', 'GaussianNB', 'SVR'])\n",
        "ax.set_ylabel('Accuracy Score')\n",
        "ax.set_title('Model Performance')\n",
        "plt.show()\n",
        "\n",
        "# Display plot\n",
        "plt.show()"
      ],
      "metadata": {
        "colab": {
          "base_uri": "https://localhost:8080/",
          "height": 281
        },
        "id": "7UTpjTC6CIV2",
        "outputId": "b4cfd09d-a71a-44c5-ec30-3b12ce74e936"
      },
      "execution_count": null,
      "outputs": [
        {
          "output_type": "display_data",
          "data": {
            "text/plain": [
              "<Figure size 432x288 with 1 Axes>"
            ],
            "image/png": "[encoded data removed]"
          },
          "metadata": {
            "needs_background": "light"
          }
        }
      ]
    },
    {
      "cell_type": "code",
      "source": [
        "# Import additional libraries\n",
        "from sklearn.preprocessing import StandardScaler\n",
        "from sklearn.pipeline import Pipeline\n",
        "from sklearn.pipeline import FeatureUnion\n",
        "from sklearn.decomposition import PCA\n",
        "from sklearn.feature_selection import SelectKBest\n"
      ],
      "metadata": {
        "id": "BsFf4ePVCevU"
      },
      "execution_count": null,
      "outputs": []
    },
    {
      "cell_type": "code",
      "source": [
        "# Setup pipeline\n",
        "estimators = []\n",
        "\n",
        "# i. Standardize the data using StandardScaler\n",
        "scaler = StandardScaler()\n",
        "x = scaler.fit_transform(x)"
      ],
      "metadata": {
        "id": "jmBuL4yuFOmD"
      },
      "execution_count": null,
      "outputs": []
    },
    {
      "cell_type": "code",
      "source": [
        "# ii. Extract 3 features with PCA\n",
        "features = []\n",
        "features.append(( 'pca' , PCA(n_components=3)))"
      ],
      "metadata": {
        "id": "wsah6ybnJtG3"
      },
      "execution_count": null,
      "outputs": []
    },
    {
      "cell_type": "code",
      "source": [
        "# iii. Extract 6 features with SelectKBest\n",
        "features.append(( 'select_best' , SelectKBest(k=6)))"
      ],
      "metadata": {
        "id": "hbIFSMQZKYc1"
      },
      "execution_count": null,
      "outputs": []
    },
    {
      "cell_type": "code",
      "source": [
        "# iv. Combine PCA and KBest features\n",
        "feature_union = FeatureUnion(features)\n",
        "estimators.append(('Feature_Union', feature_union))"
      ],
      "metadata": {
        "id": "rX7jmKnoLHUG"
      },
      "execution_count": null,
      "outputs": []
    },
    {
      "cell_type": "code",
      "source": [
        "# v. Learn Logistic Regression using LogisticRegression\n",
        "estimators.append(( 'logreg' , logreg))"
      ],
      "metadata": {
        "id": "dUqlPUjuMVL8"
      },
      "execution_count": null,
      "outputs": []
    },
    {
      "cell_type": "code",
      "source": [
        "# Evaluate pipeline\n",
        "kfold2 = KFold(n_splits=10, random_state=5, shuffle=True)\n",
        "models = Pipeline(estimators)\n",
        "results = cross_val_score(models, x, y, cv=kfold2)\n",
        "print(results.mean())"
      ],
      "metadata": {
        "colab": {
          "base_uri": "https://localhost:8080/"
        },
        "id": "4qAQO1-SSVQE",
        "outputId": "085ee896-f0e2-419f-d0f7-1805b5bdef62"
      },
      "execution_count": null,
      "outputs": [
        {
          "output_type": "stream",
          "name": "stdout",
          "text": [
            "0.9411999999999999\n"
          ]
        }
      ]
    },
    {
      "cell_type": "code",
      "source": [
        "# Import additional libraries\n",
        "from sklearn.ensemble import BaggingClassifier\n",
        "from sklearn.ensemble import AdaBoostClassifier\n",
        "from sklearn.ensemble import VotingClassifier\n",
        "from sklearn.tree import DecisionTreeClassifier\n",
        "from sklearn.svm import SVC"
      ],
      "metadata": {
        "id": "abupYcWnaS9E"
      },
      "execution_count": null,
      "outputs": []
    },
    {
      "cell_type": "code",
      "source": [
        "# Set kfold\n",
        "kfold3 = KFold(n_splits=10, random_state=7, shuffle=True)\n",
        "\n",
        "# Set BaggingClassifier\n",
        "bagclass = BaggingClassifier(base_estimator=DecisionTreeClassifier(),n_estimators=100,random_state=7)"
      ],
      "metadata": {
        "id": "jlrXoniRazfb"
      },
      "execution_count": null,
      "outputs": []
    },
    {
      "cell_type": "code",
      "source": [
        "# Calculate mean classification accuracy\n",
        "classification_accuracy = cross_val_score(bagclass, x, y, cv=kfold3, scoring='accuracy')"
      ],
      "metadata": {
        "id": "7DcjUALVc65F"
      },
      "execution_count": null,
      "outputs": []
    },
    {
      "cell_type": "code",
      "source": [
        "# Print results\n",
        "print('Mean Classification Accuracy:',classification_accuracy.mean())"
      ],
      "metadata": {
        "colab": {
          "base_uri": "https://localhost:8080/"
        },
        "id": "TrsjdBjYddiw",
        "outputId": "f099d892-10d0-4dae-e851-2b0cfed24f29"
      },
      "execution_count": null,
      "outputs": [
        {
          "output_type": "stream",
          "name": "stdout",
          "text": [
            "Mean Classification Accuracy: 0.9494999999999999\n"
          ]
        }
      ]
    },
    {
      "cell_type": "code",
      "source": [
        "# Set adaboostclassifier\n",
        "adaboost = AdaBoostClassifier(base_estimator=DecisionTreeClassifier(), n_estimators=30, random_state=7)\n",
        "classification_accuracy = cross_val_score(adaboost, x, y, cv=kfold3, scoring='accuracy')\n",
        "\n",
        "# Print results\n",
        "print('Mean Classification Accuracy:',classification_accuracy.mean())"
      ],
      "metadata": {
        "colab": {
          "base_uri": "https://localhost:8080/"
        },
        "id": "RziO-17PeSUN",
        "outputId": "959c01c0-2521-42aa-aba0-a1e7b0970ce2"
      },
      "execution_count": null,
      "outputs": [
        {
          "output_type": "stream",
          "name": "stdout",
          "text": [
            "Mean Classification Accuracy: 0.9269000000000001\n"
          ]
        }
      ]
    },
    {
      "cell_type": "code",
      "source": [
        "# Set up Support Vector Machine\n",
        "svm=SVC()\n",
        "\n",
        "# Set up voting classifier\n",
        "voteclass = VotingClassifier(estimators=[('lr', logreg), ('bc', bagclass), ('svc', svm)])\n",
        "classification_accuracy = cross_val_score(voteclass, x, y, cv=kfold3, scoring='accuracy')\n",
        "\n",
        "# Print results \n",
        "print('Mean Classification Accuracy:',classification_accuracy.mean())"
      ],
      "metadata": {
        "colab": {
          "base_uri": "https://localhost:8080/"
        },
        "id": "63vnyYbGfHen",
        "outputId": "e283df45-b8e7-4bc9-d65c-57ddcad20ae1"
      },
      "execution_count": null,
      "outputs": [
        {
          "output_type": "stream",
          "name": "stdout",
          "text": [
            "Mean Classification Accuracy: 0.9469\n"
          ]
        }
      ]
    }
  ]
}